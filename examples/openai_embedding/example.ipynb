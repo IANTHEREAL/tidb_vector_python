{
 "cells": [
  {
   "cell_type": "markdown",
   "metadata": {},
   "source": [
    "Install dependencies"
   ]
  },
  {
   "cell_type": "code",
   "execution_count": null,
   "metadata": {},
   "outputs": [],
   "source": [
    "%pip install openai peewee pymysql tidb_vector"
   ]
  },
  {
   "cell_type": "markdown",
   "metadata": {},
   "source": [
    "Preapre the environment"
   ]
  },
  {
   "cell_type": "code",
   "execution_count": null,
   "metadata": {},
   "outputs": [],
   "source": [
    "import getpass\n",
    "\n",
    "OPENAI_API_KEY = getpass.getpass(\"Enter your OpenAI API key: \")\n",
    "TIDB_HOST = input(\"Enter your TiDB host: \")\n",
    "TIDB_USERNAME = input(\"Enter your TiDB username: \")\n",
    "TIDB_PASSWORD = getpass.getpass(\"Enter your TiDB password: \")\n",
    "\n",
    "embedding_model = \"text-embedding-3-small\"\n",
    "embedding_dimensions = 1536"
   ]
  },
  {
   "cell_type": "markdown",
   "metadata": {},
   "source": [
    "Init the openai client and db"
   ]
  },
  {
   "cell_type": "code",
   "execution_count": null,
   "metadata": {},
   "outputs": [],
   "source": [
    "from openai import OpenAI\n",
    "from peewee import Model, MySQLDatabase, TextField, SQL\n",
    "from tidb_vector.peewee import VectorField\n",
    "\n",
    "client = OpenAI(api_key=OPENAI_API_KEY)\n",
    "db = MySQLDatabase(\n",
    "   'test',\n",
    "    user=TIDB_USERNAME,\n",
    "    password=TIDB_PASSWORD,\n",
    "    host=TIDB_HOST,\n",
    "    port=4000,\n",
    "    ssl_verify_cert=True,\n",
    "    ssl_verify_identity=True\n",
    ")\n",
    "db.connect()"
   ]
  },
  {
   "cell_type": "markdown",
   "metadata": {},
   "source": [
    "Prepare the documents, use the openai embeddings model to get the embeddings of the documents, and store them in the TiDB."
   ]
  },
  {
   "cell_type": "code",
   "execution_count": null,
   "metadata": {},
   "outputs": [],
   "source": [
    "documents = [\n",
    "   \"TiDB is an open-source distributed SQL database that supports Hybrid Transactional and Analytical Processing (HTAP) workloads.\",\n",
    "   \"TiFlash is the key component that makes TiDB essentially an Hybrid Transactional/Analytical Processing (HTAP) database. As a columnar storage extension of TiKV, TiFlash provides both good isolation level and strong consistency guarantee.\",\n",
    "   \"TiKV is a distributed and transactional key-value database, which provides transactional APIs with ACID compliance. With the implementation of the Raft consensus algorithm and consensus state stored in RocksDB, TiKV guarantees data consistency between multiple replicas and high availability. \",\n",
    "]\n",
    "\n",
    "class DocModel(Model):\n",
    "    text = TextField()\n",
    "    embedding = VectorField(dimensions=embedding_dimensions)\n",
    "\n",
    "    class Meta:\n",
    "        database = db\n",
    "        table_name = \"openai_embedding_test\"\n",
    "    \n",
    "    def __str__(self):\n",
    "        return self.text\n",
    "\n",
    "db.drop_tables([DocModel])\n",
    "db.create_tables([DocModel])\n",
    "\n",
    "embeddings = [\n",
    "    r.embedding\n",
    "    for r in client.embeddings.create(\n",
    "      input=documents, model=embedding_model\n",
    "    ).data\n",
    "]\n",
    "data_source = [\n",
    "    {\"text\": doc, \"embedding\": emb}\n",
    "    for doc, emb in zip(documents, embeddings)\n",
    "]\n",
    "DocModel.insert_many(data_source).execute()"
   ]
  },
  {
   "cell_type": "markdown",
   "metadata": {},
   "source": [
    "Ask a question, use the openai embeddings model to get the embeddings of the question"
   ]
  },
  {
   "cell_type": "code",
   "execution_count": null,
   "metadata": {},
   "outputs": [],
   "source": [
    "question = \"what is TiKV?\"\n",
    "question_embedding = client.embeddings.create(input=question, model=embedding_model).data[0].embedding"
   ]
  },
  {
   "cell_type": "markdown",
   "metadata": {},
   "source": [
    "Get the relevant documents from the TiDB by comparing the embeddings of the question and the documents"
   ]
  },
  {
   "cell_type": "code",
   "execution_count": null,
   "metadata": {},
   "outputs": [],
   "source": [
    "related_docs = DocModel.select(\n",
    "    DocModel.text, DocModel.embedding.cosine_distance(question_embedding).alias(\"distance\")\n",
    ").order_by(SQL(\"distance\")).limit(3)\n",
    "\n",
    "print(\"Question:\", question)\n",
    "print(\"Related documents:\")\n",
    "for doc in related_docs:\n",
    "    print(doc.distance, doc.text)"
   ]
  },
  {
   "cell_type": "code",
   "execution_count": null,
   "metadata": {},
   "outputs": [],
   "source": [
    "db.close()"
   ]
  }
 ],
 "metadata": {
  "kernelspec": {
   "display_name": ".venv",
   "language": "python",
   "name": "python3"
  },
  "language_info": {
   "codemirror_mode": {
    "name": "ipython",
    "version": 3
   },
   "file_extension": ".py",
   "mimetype": "text/x-python",
   "name": "python",
   "nbconvert_exporter": "python",
   "pygments_lexer": "ipython3",
   "version": "3.11.6"
  }
 },
 "nbformat": 4,
 "nbformat_minor": 2
}
